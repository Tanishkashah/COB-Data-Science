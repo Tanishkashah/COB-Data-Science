{
  "nbformat": 4,
  "nbformat_minor": 0,
  "metadata": {
    "colab": {
      "provenance": []
    },
    "kernelspec": {
      "name": "python3",
      "display_name": "Python 3"
    },
    "language_info": {
      "name": "python"
    }
  },
  "cells": [
    {
      "cell_type": "code",
      "execution_count": 1,
      "metadata": {
        "colab": {
          "base_uri": "https://localhost:8080/"
        },
        "id": "PU0ajJN4-hfZ",
        "outputId": "186a6c63-1969-48c9-e480-c0c6a7367a99"
      },
      "outputs": [
        {
          "output_type": "stream",
          "name": "stdout",
          "text": [
            "https://api.openweathermap.org/data/2.5/weather?q=London&appid=03731cc40e9a77b94e53f77c938030a1&units=metric\n",
            "{'coord': {'lon': -0.1257, 'lat': 51.5085}, 'weather': [{'id': 801, 'main': 'Clouds', 'description': 'few clouds', 'icon': '02d'}], 'base': 'stations', 'main': {'temp': 12.03, 'feels_like': 11.33, 'temp_min': 10.61, 'temp_max': 12.63, 'pressure': 1022, 'humidity': 78}, 'visibility': 10000, 'wind': {'speed': 7.72, 'deg': 230}, 'clouds': {'all': 20}, 'dt': 1708443351, 'sys': {'type': 2, 'id': 2075535, 'country': 'GB', 'sunrise': 1708412767, 'sunset': 1708449769}, 'timezone': 0, 'id': 2643743, 'name': 'London', 'cod': 200}\n"
          ]
        }
      ],
      "source": [
        "import requests\n",
        "import pandas as pd\n",
        "\n",
        "api_key = '03731cc40e9a77b94e53f77c938030a1'\n",
        "city = 'London'\n",
        "url = f'https://api.openweathermap.org/data/2.5/weather?q={city}&appid={api_key}&units=metric'\n",
        "print(url)\n",
        "# Fetch the weather data\n",
        "response = requests.get(url)\n",
        "data = response.json()\n",
        "print(data)\n",
        "# Create a pandas DataFrame with the weather data\n",
        "weather_data = pd.DataFrame({\n",
        "    'city': [city],\n",
        "    'temperature': [data['main']['temp']],\n",
        "    'humidity': [data['main']['humidity']],\n",
        "    'pressure': [data['main']['pressure']],\n",
        "    'wind_speed': [data['wind']['speed']],\n",
        "    'wind_direction': [data['wind']['deg']],\n",
        "    'cloudiness': [data['clouds']['all']],\n",
        "    'weather_description': [data['weather'][0]['description']]\n",
        "})\n",
        "\n",
        "# Save the weather data as a csv file\n",
        "weather_data.to_csv('weather_data.csv', index=False)"
      ]
    }
  ]
}